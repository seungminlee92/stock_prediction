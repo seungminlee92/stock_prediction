{
 "nbformat": 4,
 "nbformat_minor": 2,
 "metadata": {
  "language_info": {
   "name": "python",
   "codemirror_mode": {
    "name": "ipython",
    "version": 3
   },
   "version": "3.7.4-final"
  },
  "orig_nbformat": 2,
  "file_extension": ".py",
  "mimetype": "text/x-python",
  "name": "python",
  "npconvert_exporter": "python",
  "pygments_lexer": "ipython3",
  "version": 3,
  "kernelspec": {
   "name": "python37464bit5d9c454890a54d69a8b9f09936c8141f",
   "display_name": "Python 3.7.4 64-bit"
  }
 },
 "cells": [
  {
   "cell_type": "code",
   "execution_count": 1,
   "metadata": {},
   "outputs": [],
   "source": [
    "import pandas as pd\n",
    "import numpy as np\n",
    "\n",
    "from bs4 import BeautifulSoup as bs\n",
    "from sklearn.model_selection import train_test_split\n",
    "from urllib.request import urlopen"
   ]
  },
  {
   "cell_type": "markdown",
   "execution_count": null,
   "metadata": {},
   "outputs": [],
   "source": [
    "## 데이터 형 변환"
   ]
  },
  {
   "cell_type": "code",
   "execution_count": 2,
   "metadata": {},
   "outputs": [],
   "source": [
    "def del_comma(st):              # 문자의 ',' 없애는 함수\n",
    "    ar = st.split(',')\n",
    "    k = ''\n",
    "    for i in ar:\n",
    "       k += i\n",
    "    return k \n",
    "\n",
    "def str2fl(st):                 # string to float\n",
    "    return float(st)"
   ]
  },
  {
   "cell_type": "markdown",
   "execution_count": null,
   "metadata": {},
   "outputs": [],
   "source": [
    "## Naver에서 데이터 크롤링"
   ]
  },
  {
   "cell_type": "code",
   "execution_count": 3,
   "metadata": {},
   "outputs": [],
   "source": [
    "def get_data(data_len, stock_num, filename = False):\n",
    "    stock_num =  stock_num\n",
    "    data_len1 =  data_len\n",
    "    data_len2 = int(data_len1) // 20\n",
    "\n",
    "    date_list = []\n",
    "    price_list = []\n",
    "    trade_volume_list = []\n",
    "    organization_trading_list = []\n",
    "    foreign_trading_list = []\n",
    "    foreign_pct_list = []\n",
    "    for n in range(data_len2):\n",
    "        url = f'http://finance.naver.com/item/frgn.nhn?code={stock_num}&page={n+1}'\n",
    "        html = urlopen(url)\n",
    "        source = bs(html.read(), 'html.parser')\n",
    "        section = source.find('table', summary = '외국인 기관 순매매 거래량에 관한표이며 날짜별로 정보를 제공합니다.')\n",
    "        sr_lists = section.find_all('tr')\n",
    "        print(f'데이터 추출 중...({n+1}/{data_len2})')\n",
    "        for j in sr_lists:\n",
    "            if j.span != None:\n",
    "                date_list.append(j.td.text.replace('.', '-'))\n",
    "                price_list.append(j.find_all('td', class_ = 'num')[0].text)\n",
    "                trade_volume_list.append(j.find_all('td', class_ = 'num')[3].text)\n",
    "                organization_trading_list.append(j.find_all('td', class_ = 'num')[4].text)\n",
    "                foreign_trading_list.append(j.find_all('td', class_ = 'num')[5].text)\n",
    "                foreign_pct_list.append(j.find_all('td', class_ = 'num')[7].text[:-1])\n",
    "    print(f'데이터 추출 완료')\n",
    "    print('데이터 가공 중...')\n",
    "\n",
    "    price_list = pd.Series(price_list, index = date_list).map(del_comma).map(str2fl)\n",
    "    trade_volume_list = pd.Series(trade_volume_list, index = date_list).map(del_comma).map(str2fl)\n",
    "    organization_trading_list = pd.Series(organization_trading_list, index = date_list).map(del_comma).map(str2fl)\n",
    "    foreign_trading_list = pd.Series(foreign_trading_list, index = date_list).map(del_comma).map(str2fl)\n",
    "    foreign_pct_list = pd.Series(foreign_pct_list, index = date_list).map(str2fl)\n",
    "\n",
    "    print('데이터 병합 중...')\n",
    "    result = pd.DataFrame([price_list, trade_volume_list,organization_trading_list, foreign_trading_list, foreign_pct_list], \n",
    "                          index = ['종가', '거래량','기관매매량', '외국인매매량', '외국인보유율']).T.sort_index()\n",
    "    if filename == False:\n",
    "        print('데이터 로드 완료')\n",
    "    else:\n",
    "            \n",
    "        filename = f'data/{filename}'\n",
    "        result.to_csv(f'{filename}.csv', mode = 'w')\n",
    "        print('데이터 저장 완료')\n",
    "    return result"
   ]
  },
  {
   "cell_type": "markdown",
   "execution_count": null,
   "metadata": {},
   "outputs": [],
   "source": [
    "## 데이터 정규화\n",
    "> 평균: 0, 분산: 1"
   ]
  },
  {
   "cell_type": "code",
   "execution_count": 4,
   "metadata": {},
   "outputs": [],
   "source": [
    "def normalize(data, values = False):\n",
    "    if type(data) == list:\n",
    "        data = np.array(data)\n",
    "\n",
    "    mean = data.mean(axis = 0)\n",
    "    std = data.std(axis = 0)\n",
    "    result = (data - mean) / std\n",
    "    figs = [mean, std]\n",
    "\n",
    "    if values == True:\n",
    "        return result, figs\n",
    "    else:\n",
    "        return result"
   ]
  },
  {
   "cell_type": "markdown",
   "execution_count": null,
   "metadata": {},
   "outputs": [],
   "source": [
    "## 데이터 비정규화"
   ]
  },
  {
   "cell_type": "code",
   "execution_count": 5,
   "metadata": {},
   "outputs": [],
   "source": [
    "def denormalize(data, figs):\n",
    "    result = [round(index * figs[1] + figs[0], -1) for index in data]\n",
    "    return result"
   ]
  },
  {
   "cell_type": "markdown",
   "execution_count": null,
   "metadata": {},
   "outputs": [],
   "source": [
    "## 데이터 편집"
   ]
  },
  {
   "cell_type": "code",
   "execution_count": 6,
   "metadata": {},
   "outputs": [],
   "source": [
    "def windowing(prices, values, window_size):      # window 생성\n",
    "    x = []\n",
    "    y = []\n",
    "    for i in range(len(prices) - window_size):\n",
    "        x.append([[prices[i+j], values[i+j]] for j in range(window_size)])\n",
    "        y.append(prices[window_size + i])\n",
    "    return x, y"
   ]
  },
  {
   "cell_type": "code",
   "execution_count": 7,
   "metadata": {},
   "outputs": [],
   "source": [
    "def set_data(\n",
    "    raw_df, prices_idx = 0, added_idx = -1, \n",
    "    window_sizer = 10, test_rate = 0.5, values = False\n",
    "    ):\n",
    "    df = raw_df\n",
    "    prices = list(df[df.columns[prices_idx]])\n",
    "    added = list(df[df.columns[added_idx]])\n",
    "    \n",
    "    norm_prices, p_figs = normalize(prices, values = True)\n",
    "    norm_added, a_figs = normalize(added, values = True)\n",
    "\n",
    "    x, y = windowing(norm_prices, norm_added, window_size = window_sizer)\n",
    "    x, y = np.array(x), np.array(y)\n",
    "\n",
    "    x_train, x_test, y_train, y_test = train_test_split(\n",
    "        x, y, test_size = test_rate, shuffle = False)\n",
    "    if values == False:\n",
    "        return x_train, x_test, y_train, y_test\n",
    "    elif values == True:\n",
    "        return prices, added, p_figs, a_figs"
   ]
  },
  {
   "cell_type": "code",
   "execution_count": 8,
   "metadata": {},
   "outputs": [],
   "source": [
    "def to_1d_list(data):\n",
    "    result = []\n",
    "    for idx in range(len(data)):\n",
    "        result.append(data[idx][0])\n",
    "    return result"
   ]
  }
 ]
}