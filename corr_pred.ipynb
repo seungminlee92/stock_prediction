{
 "nbformat": 4,
 "nbformat_minor": 2,
 "metadata": {
  "language_info": {
   "name": "python",
   "codemirror_mode": {
    "name": "ipython",
    "version": 3
   },
   "version": "3.7.4-final"
  },
  "orig_nbformat": 2,
  "file_extension": ".py",
  "mimetype": "text/x-python",
  "name": "python",
  "npconvert_exporter": "python",
  "pygments_lexer": "ipython3",
  "version": 3,
  "kernelspec": {
   "name": "python37464bit5d9c454890a54d69a8b9f09936c8141f",
   "display_name": "Python 3.7.4 64-bit"
  }
 },
 "cells": [
  {
   "cell_type": "code",
   "execution_count": 1,
   "metadata": {},
   "outputs": [
    {
     "name": "stdout",
     "output_type": "stream",
     "text": "importing Jupyter notebook from control_data.ipynb\n"
    }
   ],
   "source": [
    "import import_ipynb\n",
    "import pandas as pd\n",
    "import scipy.stats as sc\n",
    "\n",
    "from control_data import *"
   ]
  },
  {
   "cell_type": "code",
   "execution_count": 2,
   "metadata": {},
   "outputs": [],
   "source": [
    "def data_corr(df, y = -1, x = 0):\n",
    "    result = [f'y: {df.columns[y]}', f'x: {df.columns[x]}']\n",
    "    result.append(\n",
    "        sc.linregress(list(df[df.columns[x]]), list(df[df.columns[y]]))\n",
    "    )\n",
    "    return result"
   ]
  },
  {
   "cell_type": "code",
   "execution_count": 3,
   "metadata": {},
   "outputs": [],
   "source": [
    "def get_key2(nprice, values):\n",
    "    slope, intercept = values\n",
    "    nfrate = round(nprice * slope + intercept, 2)\n",
    "    return nfrate"
   ]
  },
  {
   "cell_type": "code",
   "execution_count": 4,
   "metadata": {},
   "outputs": [],
   "source": [
    "def pred_days(\n",
    "    model, prices, added, p_figs, a_figs, values, days = 1, window_sizer = 10\n",
    "    ):\n",
    "    result1 = []\n",
    "    result2 = []\n",
    "    key1 = prices[-window_sizer:]\n",
    "    key2 = added[-window_sizer:]\n",
    "    \n",
    "    for steps in range(days):\n",
    "        window = []\n",
    "        norm_key1 = [(x - p_figs[0]) / p_figs[1] for x in key1]\n",
    "        norm_key2 = [(x - a_figs[0]) / a_figs[1] for x in key2]\n",
    "        \n",
    "        window.append([[norm_key1[i], norm_key2[i]] for i in range(window_sizer)])\n",
    "        window = np.array(window)\n",
    "        pred = to_1d_list(model.predict(window))[0]\n",
    "        key1_pred = round(pred * p_figs[1] + p_figs[0], -1)\n",
    "        result1.append(key1_pred)\n",
    "        \n",
    "        key2_pred = get_key2(key1_pred, values)\n",
    "        result2.append(key2_pred)\n",
    "\n",
    "        key1 = key1[1:] + [key1_pred]\n",
    "        key2 = key2[1:] + [key2_pred]\n",
    "    return result1, result2"
   ]
  }
 ]
}