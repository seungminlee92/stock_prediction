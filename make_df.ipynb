{
 "nbformat": 4,
 "nbformat_minor": 2,
 "metadata": {
  "language_info": {
   "name": "python",
   "codemirror_mode": {
    "name": "ipython",
    "version": 3
   },
   "version": "3.7.4-final"
  },
  "orig_nbformat": 2,
  "file_extension": ".py",
  "mimetype": "text/x-python",
  "name": "python",
  "npconvert_exporter": "python",
  "pygments_lexer": "ipython3",
  "version": 3,
  "kernelspec": {
   "name": "python37464bit5d9c454890a54d69a8b9f09936c8141f",
   "display_name": "Python 3.7.4 64-bit"
  }
 },
 "cells": [
  {
   "cell_type": "code",
   "execution_count": 1,
   "metadata": {},
   "outputs": [],
   "source": [
    "import pandas as pd"
   ]
  },
  {
   "cell_type": "code",
   "execution_count": 2,
   "metadata": {},
   "outputs": [],
   "source": [
    "def make_pd(lists, index, column_name):\n",
    "    df = pd.DataFrame(data = lists, \n",
    "                      index = index, \n",
    "                      columns = [column_name])\n",
    "    return df"
   ]
  },
  {
   "cell_type": "code",
   "execution_count": 3,
   "metadata": {},
   "outputs": [],
   "source": [
    "def merge_list(df, windowsizer, prices, train_pred, test_pred, pred, test_len):\n",
    "    train_pred_idx = df.index[windowsizer-1: -test_len+1]\n",
    "    test_pred_idx = df.index[-test_len:]\n",
    "    pred_idx = [test_pred_idx[-1]] + [f'D+{x+1}' for x in range(len(pred)-1)]\n",
    "\n",
    "    raw_df = make_pd(prices, df.index, 'real')\n",
    "    train_df = make_pd(train_pred, train_pred_idx, 'trained')\n",
    "    test_df = make_pd(test_pred, test_pred_idx, 'tested')\n",
    "    pred_df = make_pd(pred, pred_idx, 'pred')\n",
    "\n",
    "    result_df = raw_df.merge(\n",
    "        train_df, \n",
    "        how = 'outer', \n",
    "        left_index = True, \n",
    "        right_index = True\n",
    "    ).merge(\n",
    "        test_df,\n",
    "        how = 'outer', \n",
    "        left_index = True, \n",
    "        right_index = True\n",
    "        \n",
    "    ).merge(\n",
    "        pred_df,\n",
    "        how = 'outer', \n",
    "        left_index = True, \n",
    "        right_index = True\n",
    "    )\n",
    "    return result_df"
   ]
  }
 ]
}