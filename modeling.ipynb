{
 "nbformat": 4,
 "nbformat_minor": 2,
 "metadata": {
  "language_info": {
   "name": "python",
   "codemirror_mode": {
    "name": "ipython",
    "version": 3
   },
   "version": "3.7.4-final"
  },
  "orig_nbformat": 2,
  "file_extension": ".py",
  "mimetype": "text/x-python",
  "name": "python",
  "npconvert_exporter": "python",
  "pygments_lexer": "ipython3",
  "version": 3,
  "kernelspec": {
   "name": "python37464bit5d9c454890a54d69a8b9f09936c8141f",
   "display_name": "Python 3.7.4 64-bit"
  }
 },
 "cells": [
  {
   "cell_type": "code",
   "execution_count": 1,
   "metadata": {},
   "outputs": [
    {
     "name": "stderr",
     "output_type": "stream",
     "text": "Using TensorFlow backend.\n"
    }
   ],
   "source": [
    "import matplotlib.pyplot as plt\n",
    "\n",
    "from keras.layers import LSTM, Dense, Dropout\n",
    "from keras.models import Sequential\n",
    "from keras.optimizers import Adam, Nadam, RMSprop"
   ]
  },
  {
   "cell_type": "markdown",
   "execution_count": null,
   "metadata": {},
   "outputs": [],
   "source": [
    "## 모델 생성"
   ]
  },
  {
   "cell_type": "code",
   "execution_count": 2,
   "metadata": {},
   "outputs": [],
   "source": [
    "def price_pred_model(\n",
    "    window_sizer = 10, save = False, filename = 'model', lstm = 1, dropout_rate = 0.2, optimizers = RMSprop()\n",
    "    ):\n",
    "    model = Sequential()\n",
    "    model.add(\n",
    "        LSTM(2, return_sequences = True, input_shape = (window_sizer, 2))\n",
    "    )\n",
    "    if lstm > 1:\n",
    "        for steps in range(lstm - 1):\n",
    "            model.add(\n",
    "                LSTM(64, return_sequences = True)\n",
    "            )\n",
    "            model.add(Dropout(dropout_rate))            \n",
    "    model.add(\n",
    "        LSTM(64, return_sequences = False)\n",
    "    )\n",
    "    model.add(Dropout(dropout_rate))\n",
    "    model.add(Dense(1))\n",
    "    # model.add(Dense(1, activation = 'linear'))\n",
    "    model.compile(\n",
    "        # optimizer = RMSprop(), Adam(), Nadam()\n",
    "        optimizer = optimizers,\n",
    "        loss = 'mse')\n",
    "    model.summary()\n",
    "\n",
    "    if save == True:\n",
    "        model.save(f'data/{filename}_unfitted.h5')\n",
    "        print('모델 저장 완료')\n",
    "    return model"
   ]
  },
  {
   "cell_type": "markdown",
   "execution_count": null,
   "metadata": {},
   "outputs": [],
   "source": [
    "## 모델 훈련"
   ]
  },
  {
   "cell_type": "code",
   "execution_count": 3,
   "metadata": {},
   "outputs": [],
   "source": [
    "def model_fit(\n",
    "    model, x_train, y_train, \n",
    "    val_rate = .2, batch_size = 1, epochs = 20,\n",
    "    save = False, img_save = False, filename = 'model'\n",
    "    ):\n",
    "    result = model.fit(\n",
    "    x_train, y_train,\n",
    "        validation_split = val_rate,\n",
    "        batch_size = batch_size,\n",
    "        epochs = epochs\n",
    "    )\n",
    "\n",
    "    hist_dict = result.history\n",
    "\n",
    "    loss = hist_dict['loss']\n",
    "    val_loss = hist_dict['val_loss']\n",
    "\n",
    "    epochs = range(1, len(loss) + 1)\n",
    "\n",
    "    plt.plot(epochs, loss, 'b', label = 'Training loss')\n",
    "    plt.plot(epochs, val_loss, 'g', label = 'Validation loss')\n",
    "    plt.title('Training and validation loss')\n",
    "    plt.xlabel('Epochs')\n",
    "    plt.ylabel('loss')\n",
    "    plt.legend()\n",
    "\n",
    "    if save == True:\n",
    "        model.save(f'data/{filename}_fitted.h5')\n",
    "        print('모델 저장 완료')\n",
    "    \n",
    "    if img_save == True:\n",
    "        plt.savefig(f'data/{filename}.png')\n",
    "    return result"
   ]
  }
 ]
}